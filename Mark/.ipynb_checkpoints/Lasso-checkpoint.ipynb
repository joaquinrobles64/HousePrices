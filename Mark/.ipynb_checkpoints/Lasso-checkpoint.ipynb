{
 "cells": [
  {
   "cell_type": "markdown",
   "metadata": {},
   "source": [
    "# Determining Housing Prices Over Time with Lasso Regression"
   ]
  },
  {
   "cell_type": "markdown",
   "metadata": {},
   "source": [
    "####  - Mark Kalaiji"
   ]
  },
  {
   "cell_type": "code",
   "execution_count": null,
   "metadata": {},
   "outputs": [],
   "source": [
    "import pandas as pd\n",
    "import numpy as np\n",
    "\n",
    "from sklearn.preprocessing import OneHotEncoder\n",
    "from sklearn.compose import make_column_transformer\n",
    "from sklearn.impute import SimpleImputer\n",
    "\n",
    "# house data set assigned to pandas data frame\n",
    "house_df = pd.read_csv(\"https://raw.githubusercontent.com/markkalaiji/HousePrices/main/train.csv\")\n",
    "\n",
    "# feature matrix and label vector\n",
    "X = house_df[['MSSubClass','MSZoning','Utilities','BldgType','HouseStyle','OverallQual','OverallCond','YearBuilt','RoofStyle','RoofMatl','ExterQual','ExterCond','Foundation','BsmtCond','TotalBsmtSF','Heating','HeatingQC','CentralAir','Electrical','KitchenQual','Functional','FireplaceQu','GarageQual']]\n",
    "y = house_df['SalePrice']\n",
    "\n",
    "imputer = SimpleImputer(strategy='constant',fill_value='NA')\n",
    "X = pd.DataFrame(imputer.fit_transform(X), columns=X.columns)\n",
    "\n",
    "MSZoning_Dummies = pd.get_dummies(house_df.MSZoning)\n",
    "Utilities_Dummies = pd.get_dummies(house_df.Utilities)\n",
    "BldgType_Dummies = pd.get_dummies(house_df.BldgType)\n",
    "HouseStyle_Dummies = pd.get_dummies(house_df.HouseStyle)\n",
    "ExterQual_Dummies = pd.get_dummies(house_df.ExterQual)\n",
    "ExterCond_Dummies = pd.get_dummies(house_df.ExterCond)\n",
    "RoofStyle_Dummies = pd.get_dummies(house_df.RoofStyle)\n",
    "RoofMatl_Dummies = pd.get_dummies(house_df.RoofMatl)\n",
    "Foundation_Dummies = pd.get_dummies(house_df.Foundation)\n",
    "BsmtCond_Dummies = pd.get_dummies(house_df.BsmtCond)\n",
    "Heating_Dummies = pd.get_dummies(house_df.Heating)\n",
    "HeatingQC_Dummies = pd.get_dummies(house_df.HeatingQC)\n",
    "CentralAir_Dummies = pd.get_dummies(house_df.CentralAir)\n",
    "Electrical_Dummies = pd.get_dummies(house_df.Electrical)\n",
    "KitchenQual_Dummies = pd.get_dummies(house_df.KitchenQual)\n",
    "Functional_Dummies = pd.get_dummies(house_df.Functional)\n",
    "FireplaceQu_Dummies = pd.get_dummies(house_df.FireplaceQu)\n",
    "GarageQual_Dummies = pd.get_dummies(house_df.GarageQual)\n",
    "\n",
    "X = pd.concat([X,MSZoning_Dummies,Utilities_Dummies,BldgType_Dummies,HouseStyle_Dummies,RoofStyle_Dummies,RoofMatl_Dummies,ExterQual_Dummies,ExterCond_Dummies,Foundation_Dummies,BsmtCond_Dummies,Heating_Dummies,HeatingQC_Dummies,CentralAir_Dummies,Electrical_Dummies,KitchenQual_Dummies,Functional_Dummies,FireplaceQu_Dummies,GarageQual_Dummies], axis='columns')\n",
    "X = X.drop(['MSZoning','Utilities','BldgType','HouseStyle','RoofStyle','RoofMatl','ExterQual','ExterCond','Foundation','BsmtCond','Heating','HeatingQC','CentralAir','Electrical','KitchenQual','Functional','FireplaceQu','GarageQual'],axis='columns')\n",
    "\n",
    "X"
   ]
  },
  {
   "cell_type": "code",
   "execution_count": null,
   "metadata": {},
   "outputs": [],
   "source": [
    "# scale data\n",
    "from sklearn.preprocessing import MinMaxScaler\n",
    "mms = MinMaxScaler()\n",
    "\n",
    "X = pd.DataFrame(mms.fit_transform(X), columns=X.columns)\n",
    "\n",
    "# split data set into testing and training\n",
    "from sklearn.model_selection import train_test_split\n",
    "\n",
    "X_train, X_test, y_train, y_test = train_test_split(X, y, test_size=0.24, random_state=0)"
   ]
  },
  {
   "cell_type": "code",
   "execution_count": null,
   "metadata": {},
   "outputs": [],
   "source": [
    "# import lasso\n",
    "from sklearn.linear_model import Lasso\n",
    "\n",
    "house_lasso = Lasso(alpha=0.01, max_iter=10e5)\n",
    "\n",
    "# training on training set\n",
    "house_lasso.fit(X_train, y_train)\n",
    "\n",
    "# testing on testing set\n",
    "y_predict_lasso = house_lasso.predict(X_train)"
   ]
  },
  {
   "cell_type": "code",
   "execution_count": null,
   "metadata": {},
   "outputs": [],
   "source": [
    "from sklearn import metrics\n",
    "\n",
    "mse = metrics.mean_squared_error(y_test, y_predict_lasso)\n",
    "rmse = np.sqrt(mse)\n",
    "\n",
    "print(rmse)"
   ]
  },
  {
   "cell_type": "code",
   "execution_count": null,
   "metadata": {},
   "outputs": [],
   "source": [
    "from sklearn.model_selection import cross_val_score\n",
    "\n",
    "lr_mse_list = cross_val_score(house_lasso, X, y, cv=10, scoring='neg_mean_squared_error')\n",
    "\n",
    "positive_lr_mse_list = -lr_mse_list\n",
    "\n",
    "lr_rmse_list = np.sqrt(positive_lr_mse_list)\n",
    "\n",
    "print(lr_rmse_list.mean())"
   ]
  }
 ],
 "metadata": {
  "kernelspec": {
   "display_name": "Python 3",
   "language": "python",
   "name": "python3"
  },
  "language_info": {
   "codemirror_mode": {
    "name": "ipython",
    "version": 3
   },
   "file_extension": ".py",
   "mimetype": "text/x-python",
   "name": "python",
   "nbconvert_exporter": "python",
   "pygments_lexer": "ipython3",
   "version": "3.8.3"
  }
 },
 "nbformat": 4,
 "nbformat_minor": 4
}
